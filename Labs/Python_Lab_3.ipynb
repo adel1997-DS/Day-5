{
 "cells": [
  {
   "cell_type": "markdown",
   "metadata": {},
   "source": [
    "# Python_Lab_3\n"
   ]
  },
  {
   "cell_type": "markdown",
   "metadata": {},
   "source": [
    "### Task 1\n",
    "- Write a function named **'create_student_records'** that takes a list of tuples. Each tuple contains a student's name and their scores in three subjects. The function should return a list of dictionaries, where each dictionary represents a student with keys: name, subject1, subject2, subject3. Use list comprehension to create the list of dictionaries."
   ]
  },
  {
   "cell_type": "code",
   "execution_count": 48,
   "metadata": {},
   "outputs": [
    {
     "name": "stdout",
     "output_type": "stream",
     "text": [
      "[{'name': 'ahmed', 'subject1,': 60, 'subject2': 70, 'subject3': 80}, {'name': 'saud', 'subject1,': 60, 'subject2': 70, 'subject3': 80}, {'name': 'fahed', 'subject1,': 60, 'subject2': 70, 'subject3': 80}]\n",
      "{'name': 'fahed', 'subject1,': 60, 'subject2': 70, 'subject3': 80}\n"
     ]
    }
   ],
   "source": [
    "def create_student_records(student_records):\n",
    "    return [\n",
    "        { \"name\": name, \"subject1,\": sc[0], \"subject2\": sc[1],  \"subject3\": sc[2]}\n",
    "        for name, sc in student_records  ]\n",
    "\n",
    "records = [\n",
    "    (\"ahmed\", (60, 70, 80)),\n",
    "    (\"saud\", (60, 70, 80)),\n",
    "    (\"fahed\", (60, 70, 80))\n",
    "]\n",
    "\n",
    "A = create_student_records(records )\n",
    "print(A)\n",
    "print(A[2])\n"
   ]
  },
  {
   "cell_type": "markdown",
   "metadata": {},
   "source": [
    "### Task 2\n",
    "- Write a function named **'filter_and_sort_students'** that takes the list of dictionaries from Question 1 and returns a sorted list of student names who have an average score of 80 or more across all subjects. Sort the names in alphabetical order."
   ]
  },
  {
   "cell_type": "code",
   "execution_count": 102,
   "metadata": {},
   "outputs": [
    {
     "name": "stdout",
     "output_type": "stream",
     "text": [
      "['ahmed', 'fahed', 'saud']\n"
     ]
    }
   ],
   "source": [
    "def create_student_records(student_records):\n",
    "    return [ { \"name\": name, \"subject1\": sc[0], \"subject2\": sc[1],  \"subject3\": sc[2]}\n",
    "        for name, sc in student_records]\n",
    "\n",
    "\n",
    "def filter_and_sort_students(student_records):\n",
    "    students = [\n",
    "        student[\"name\"]\n",
    "        for student in student_records\n",
    "        if (student[\"subject1\"] + student[\"subject2\"] + student[\"subject3\"]) / 3 >= 80]\n",
    "    return sorted(students)\n",
    "\n",
    "\n",
    "records = [\n",
    "    (\"ahmed\", (100, 100, 100)),\n",
    "    (\"saud\", (80,80,80)),\n",
    "    (\"fahed\", (90, 90, 90))\n",
    "]\n",
    "\n",
    "c=create_student_records(records)\n",
    "b=filter_and_sort_students(c)\n",
    "print(b)\n",
    "   "
   ]
  },
  {
   "cell_type": "markdown",
   "metadata": {},
   "source": [
    "### Task 3\n",
    "- Write a function named **'get_product_info'** that prompts the user to enter information about a product. The function should ask for the product name, product price, and product quantity. If the user enters an invalid input (e.g., a non-numeric value for the price or quantity), the function should handle the error and prompt the user to enter the value again. Return a dictionary containing the product information."
   ]
  },
  {
   "cell_type": "code",
   "execution_count": 112,
   "metadata": {},
   "outputs": [
    {
     "name": "stdin",
     "output_type": "stream",
     "text": [
      "enter product name:  ksdfhdskj\n",
      "enter product price:  3\n",
      "enter product quantity:   4\n"
     ]
    },
    {
     "name": "stdout",
     "output_type": "stream",
     "text": [
      "{'name': 'ksdfhdskj', 'price': 3, 'quantity': 4}\n"
     ]
    }
   ],
   "source": [
    "def get_product_info():\n",
    "    product_info = {}  \n",
    "\n",
    "    product_info['name'] = input(\"enter product name: \")\n",
    "\n",
    "    while True:\n",
    "        price_input = input(\"enter product price: \") \n",
    "        try:\n",
    "            price = int(price_input)  \n",
    "            if price < 0:\n",
    "                print(\"إInvalid entry\")\n",
    "            else:\n",
    "                product_info['price'] = price  \n",
    "                break  \n",
    "        except ValueError:\n",
    "            print(\"إInvalid entry\")\n",
    "\n",
    "    \n",
    "    while True:\n",
    "        quantity_input = input(\"enter product quantity:  \")   \n",
    "        try:\n",
    "            quantity = int(quantity_input)   \n",
    "            if quantity < 0:\n",
    "                print(\"\")\n",
    "            else:\n",
    "                product_info['quantity'] = quantity    \n",
    "                break\n",
    "        except ValueError:\n",
    "            print(\"Invalid entry\")\n",
    "\n",
    "    return product_info  \n",
    "\n",
    " \n",
    "product = get_product_info()  \n",
    "print(product)    \n",
    "\n",
    "        "
   ]
  },
  {
   "cell_type": "markdown",
   "metadata": {},
   "source": [
    "### Task 4\n",
    "- Write a function named **'get_even_numbers'** that takes a list of integers and returns a list of even numbers using list comprehension."
   ]
  },
  {
   "cell_type": "code",
   "execution_count": 2,
   "metadata": {},
   "outputs": [
    {
     "name": "stdout",
     "output_type": "stream",
     "text": [
      "[2, 4, 6]\n"
     ]
    }
   ],
   "source": [
    "def get_even_numbers(numbers):\n",
    "    return [num for num in numbers if num % 2 == 0]\n",
    "\n",
    "numbers_list = [1, 2, 3, 4, 5, 6]\n",
    "even_numbers = get_even_numbers(numbers_list)\n",
    "print(even_numbers) "
   ]
  },
  {
   "cell_type": "markdown",
   "metadata": {},
   "source": [
    "### Task 5\n",
    "- Write a function named **'pair_elements'** that takes two lists of equal length as parameters and returns a list of tuples, where each tuple contains corresponding elements from the two lists. Use the zip function to achieve this."
   ]
  },
  {
   "cell_type": "code",
   "execution_count": 5,
   "metadata": {},
   "outputs": [
    {
     "name": "stdout",
     "output_type": "stream",
     "text": [
      "[(1, 'a'), (2, 'b'), (3, 'c')]\n"
     ]
    }
   ],
   "source": [
    "def pair_elements(list1, list2):\n",
    "    return list(zip(list1, list2))\n",
    "\n",
    "list_a = [1,2,3]\n",
    "list_b = ['a','b','c']\n",
    "paired_list = pair_elements(list_a, list_b)\n",
    "print(paired_list)\n"
   ]
  },
  {
   "cell_type": "markdown",
   "metadata": {},
   "source": [
    "### Task 6\n",
    "- Write a function named **'square_dict_lambda'** that takes a list of integers and returns a dictionary where the keys are the integers and the values are their squares. Use a lambda function within a dictionary comprehension to achieve this."
   ]
  },
  {
   "cell_type": "code",
   "execution_count": 7,
   "metadata": {},
   "outputs": [
    {
     "name": "stdout",
     "output_type": "stream",
     "text": [
      "{1: 1, 2: 4, 3: 9, 4: 16}\n"
     ]
    }
   ],
   "source": [
    "def square_dict_lambda(numbers):\n",
    "    return {num: (lambda x: x ** 2)(num) for num in numbers}\n",
    "\n",
    "numbers_list = [1,2,3,4]\n",
    "squared_dict = square_dict_lambda(numbers_list)\n",
    "print(squared_dict) \n"
   ]
  },
  {
   "cell_type": "code",
   "execution_count": null,
   "metadata": {},
   "outputs": [],
   "source": [
    "  "
   ]
  }
 ],
 "metadata": {
  "kernelspec": {
   "display_name": "Python 3 (ipykernel)",
   "language": "python",
   "name": "python3"
  },
  "language_info": {
   "codemirror_mode": {
    "name": "ipython",
    "version": 3
   },
   "file_extension": ".py",
   "mimetype": "text/x-python",
   "name": "python",
   "nbconvert_exporter": "python",
   "pygments_lexer": "ipython3",
   "version": "3.12.4"
  }
 },
 "nbformat": 4,
 "nbformat_minor": 4
}
